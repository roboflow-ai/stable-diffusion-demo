{
 "cells": [
  {
   "cell_type": "code",
   "execution_count": null,
   "id": "9be19ca5-5898-461a-9d6a-1125176d71f6",
   "metadata": {},
   "outputs": [],
   "source": [
    "%%sh\n",
    "pip install -q --upgrade pip\n",
    "pip install -q --upgrade diffusers transformers scipy ftfy huggingface_hub roboflow"
   ]
  },
  {
   "cell_type": "code",
   "execution_count": null,
   "id": "76e38afc-87dd-45e5-ac6b-d506e7fdcaa7",
   "metadata": {},
   "outputs": [],
   "source": [
    "from huggingface_hub import notebook_login\n",
    "\n",
    "# Required to get access to stable diffusion model\n",
    "notebook_login()"
   ]
  },
  {
   "cell_type": "code",
   "execution_count": null,
   "id": "60d68fc2-5569-46db-b0b2-a2b544442b4e",
   "metadata": {},
   "outputs": [],
   "source": [
    "import torch\n",
    "from diffusers import StableDiffusionPipeline\n",
    "\n",
    "pipeline = StableDiffusionPipeline.from_pretrained(\n",
    "    \"runwayml/stable-diffusion-v1-5\", torch_dtype=torch.float16, revision=\"fp16\"\n",
    ")\n",
    "\n",
    "pipeline = pipeline.to(\"cuda\")"
   ]
  },
  {
   "cell_type": "code",
   "execution_count": null,
   "id": "ac716acb-e9f0-4990-a018-d698f9a276c2",
   "metadata": {},
   "outputs": [],
   "source": [
    "import os\n",
    "\n",
    "from IPython.display import Image, display\n",
    "\n",
    "\n",
    "def generate_images(\n",
    "    prompt,\n",
    "    num_images_to_generate,\n",
    "    num_images_per_prompt=4,\n",
    "    guidance_scale=8,\n",
    "    output_dir=\"images\",\n",
    "    display_images=False,\n",
    "):\n",
    "\n",
    "    num_iterations = num_images_to_generate // num_images_per_prompt\n",
    "    os.makedirs(output_dir, exist_ok=True)\n",
    "\n",
    "    for i in range(num_iterations):\n",
    "        images = pipeline(\n",
    "            prompt, num_images_per_prompt=num_images_per_prompt, guidance_scale=guidance_scale\n",
    "        )\n",
    "        for idx, image in enumerate(images.images):\n",
    "            image_name = f\"{output_dir}/image_{(i*num_images_per_prompt)+idx}.png\"\n",
    "            image.save(image_name)\n",
    "            if display_images:\n",
    "                display(Image(filename=image_name, width=128, height=128))"
   ]
  },
  {
   "cell_type": "code",
   "execution_count": null,
   "id": "c830c486-68b0-4375-812a-3ba96883bcf2",
   "metadata": {},
   "outputs": [],
   "source": [
    "# 1000 images takes a couple hours on a SageMaker Studio Lab GPU instance \n",
    "\n",
    "generate_images(\"human on a forklift\", 1000, guidance_scale=4, display_images=True)\n",
    "\n"
   ]
  },
  {
   "cell_type": "code",
   "execution_count": null,
   "id": "d233b775-6c1d-4360-8400-5ade9f4388c4",
   "metadata": {},
   "outputs": [],
   "source": [
    "import os\n",
    "HOME = os.getcwd()\n",
    "image_dir = os.path.join(HOME, \"images\", \"\")"
   ]
  },
  {
   "cell_type": "code",
   "execution_count": null,
   "id": "d1b60015-5176-45be-be13-e0d55144eb10",
   "metadata": {},
   "outputs": [],
   "source": [
    "file_path = HOME/images/"
   ]
  },
  {
   "cell_type": "code",
   "execution_count": null,
   "id": "87b8a427-e145-4078-b643-bb001fefa9ec",
   "metadata": {},
   "outputs": [],
   "source": [
    "from roboflow import Roboflow\n",
    "import glob\n",
    "import os\n",
    "\n",
    "## DEFINITIONS\n",
    "# glob params\n",
    "image_dir = os.path.join(HOME, \"images\", \"\")\n",
    "file_extension_type = \".png\"\n",
    "\n",
    "## INIT\n",
    "# roboflow pip params\n",
    "rf = Roboflow(api_key=\"YOUR_ROBOFLOW_API_KEY\")\n",
    "upload_project = rf.workspace().project(\"YOUR_ROBOFLOW_PROJECT\")\n",
    "\n",
    "## MAIN\n",
    "# glob images\n",
    "image_glob = glob.glob(image_dir + '/*' + file_extension_type)\n",
    "\n",
    "# perform upload\n",
    "for image in image_glob:\n",
    "    upload_project.upload(image, num_retry_uploads=3)\n",
    "    print(\"*** Processing image [\" + str(len(image_glob)) + \"] - \" + image + \" ***\")"
   ]
  },
  {
   "cell_type": "code",
   "execution_count": null,
   "id": "05e1fd9e-cc08-4d6d-b473-9040414bdded",
   "metadata": {},
   "outputs": [],
   "source": [
    "# Future Enhancement\n",
    "#1. Generate images\n",
    "#2. Use Roboflow Universe model for auto label generation \n",
    "#3. Upload images with label confidence greater than 50% to a project via API\n",
    "#4. Review and hand annotate the rest in Roboflow "
   ]
  },
  {
   "cell_type": "code",
   "execution_count": null,
   "id": "6118cd5f-10bf-4e36-808a-88d5a9bda104",
   "metadata": {},
   "outputs": [],
   "source": []
  }
 ],
 "metadata": {
  "kernelspec": {
   "display_name": "default:Python",
   "language": "python",
   "name": "conda-env-default-py"
  },
  "language_info": {
   "codemirror_mode": {
    "name": "ipython",
    "version": 3
   },
   "file_extension": ".py",
   "mimetype": "text/x-python",
   "name": "python",
   "nbconvert_exporter": "python",
   "pygments_lexer": "ipython3",
   "version": "3.9.13"
  }
 },
 "nbformat": 4,
 "nbformat_minor": 5
}
